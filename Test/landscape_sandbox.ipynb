{
 "cells": [
  {
   "cell_type": "code",
   "execution_count": 30,
   "metadata": {
    "collapsed": false
   },
   "outputs": [],
   "source": [
    "import matplotlib.pyplot as plt\n",
    "from itertools import chain\n",
    "%matplotlib inline\n"
   ]
  },
  {
   "cell_type": "markdown",
   "metadata": {},
   "source": [
    "# Take One"
   ]
  },
  {
   "cell_type": "code",
   "execution_count": 31,
   "metadata": {
    "collapsed": false
   },
   "outputs": [],
   "source": [
    "\n",
    "def inner_circle(max_r):\n",
    "    memos = []\n",
    "    for k_r in range(1, max_r + 1):\n",
    "        k_r_sq = k_r ** 2\n",
    "        memos.append([])\n",
    "        for x in range(-max_r, max_r + 1):\n",
    "            x_sq = x ** 2\n",
    "            for y in range(-max_r, max_r + 1):\n",
    "                y_sq = y ** 2\n",
    "                if x_sq + y_sq <= k_r_sq:\n",
    "                    memos[k_r - 1].append((x,y))\n",
    "\n",
    "    return list(chain.from_iterable(memos))\n",
    "\n",
    "\n",
    "def outer_circle(max_r, inner, other = None, other2 = None): \n",
    "    \n",
    "    memos = []\n",
    "    outer = []\n",
    "    \n",
    "    for k_r in range(1, max_r + 1):\n",
    "        k_r_sq = k_r ** 2\n",
    "        memos.append([])\n",
    "        for x in range(-max_r, max_r + 1):\n",
    "            x_sq = x ** 2\n",
    "            for y in range(-max_r, max_r + 1):\n",
    "                y_sq = y ** 2\n",
    "                if x_sq + y_sq <= k_r_sq:\n",
    "                    memos[k_r - 1].append((x,y))\n",
    "    \n",
    "    whole = list(chain.from_iterable(memos))\n",
    "    \n",
    "    if other: \n",
    "        for i in other: \n",
    "            if i not in inner: \n",
    "                inner.append(i)\n",
    "                \n",
    "    print (len(inner))\n",
    "    if other2: \n",
    "        for i in other2: \n",
    "            if i not in inner: \n",
    "                inner.append(i) \n",
    "    print (len(inner))\n",
    "    for i in whole: \n",
    "        if i in inner: \n",
    "            pass\n",
    "        else: \n",
    "            outer.append(i)\n",
    "    \n",
    "    return outer\n",
    "\n",
    "\n",
    "def make_cirle(grad, quad): \n",
    "    \n",
    "    print (len(grad))\n",
    "    if quad == 1 or quad == 3: \n",
    "        value = 4\n",
    "        value2 = 0\n",
    "        \n",
    "        gradient = {}\n",
    "        for circle in grad:\n",
    "            for pos in circle: \n",
    "                gradient[pos] = (value, value2)\n",
    "            value -= 1\n",
    "            value2 += 1\n",
    "     \n",
    "        return gradient\n",
    "    else: \n",
    "        value2 = 4\n",
    "        value = 0\n",
    "        \n",
    "        gradient = {}\n",
    "        for circle in grad:\n",
    "            for pos in circle: \n",
    "                gradient[pos] = (value, value2)\n",
    "            value2 -= 1\n",
    "            value += 1\n",
    "     \n",
    "        return gradient\n",
    "    \n",
    "    \n",
    "\n",
    "\n",
    "\n",
    "def make_quad(grad, quad, x_thrd, y_thrd, height, width): \n",
    "    \n",
    "     \n",
    "     points = make_cirle(grad, quad)    \n",
    "            \n",
    "     quad_land = {}\n",
    "        \n",
    "     if quad == 1: \n",
    "         quad1 = x_thrd\n",
    "         quad2 = y_thrd\n",
    "     \n",
    "     elif quad == 2: \n",
    "         quad1 = x_thrd\n",
    "         quad2 = height - y_thrd\n",
    "         \n",
    "     elif quad == 3: \n",
    "         quad1 = width - x_thrd\n",
    "         quad2 = height - y_thrd\n",
    "         \n",
    "     elif quad == 4: \n",
    "         quad1 = width - x_thrd\n",
    "         quad2 = y_thrd\n",
    "     \n",
    "     for k,v in points.items(): \n",
    "        if quad == 1 or quad == 3: \n",
    "            quad_land[(k[0]+quad1, k[1]+quad2)] = v\n",
    "        else: \n",
    "            #if (k[0]+quad1, k[1]+quad2) in quad_land.keys():\n",
    "            #    pass\n",
    "            #else: \n",
    "            quad_land[(k[0]+quad1, k[1]+quad2)] = v \n",
    "         \n",
    "     \n",
    "     #print (quad_land)\n",
    "     return quad_land\n",
    "         \n",
    "\n",
    "\n",
    "def create_landscape(height, width):\n",
    "    '''\n",
    "    \n",
    "    Creates a landscape with sugar and spice mounds\n",
    "    \n",
    "    Returns a list of list simulating a 2 dimensional array\n",
    "    '''\n",
    "    \n",
    "    x_thrd = int(width/2.5)\n",
    "    y_thrd = int(height/2.5)\n",
    "    \n",
    "    #make circles\n",
    "    inner = inner_circle(int(x_thrd/6))\n",
    "    outer = outer_circle(int(x_thrd/3), inner)\n",
    "    outer2 = outer_circle(int(x_thrd/2), inner, outer)\n",
    "    outer3 = outer_circle(int(x_thrd/1.5), inner, outer, outer2)\n",
    "    \n",
    "    grad = [inner, outer, outer2, outer3]\n",
    "    \n",
    "           \n",
    "    #make into 4 quadrants of square\n",
    "    landscape = {}\n",
    "    \n",
    "    for n in [1]: \n",
    "        quad = make_quad(grad, n, x_thrd-6, y_thrd-7, height, width)\n",
    "        landscape = {**landscape, **quad}\n",
    "    \n",
    "    for n in [2]: \n",
    "        quad = make_quad(grad, n, x_thrd-6, y_thrd-6, height, width)\n",
    "        landscape = {**landscape, **quad}\n",
    "    \n",
    "    for n in [3]: \n",
    "        quad = make_quad(grad, n, x_thrd-6, y_thrd-6, height, width)\n",
    "        landscape = {**landscape, **quad}\n",
    "\n",
    "    for n in [4]: \n",
    "        quad = make_quad(grad, n, x_thrd-6, y_thrd -7, height, width)\n",
    "        landscape = {**landscape, **quad}\n",
    "    \n",
    "    return landscape"
   ]
  },
  {
   "cell_type": "code",
   "execution_count": 32,
   "metadata": {
    "collapsed": false
   },
   "outputs": [
    {
     "name": "stdout",
     "output_type": "stream",
     "text": [
      "47\n",
      "47\n",
      "131\n",
      "131\n",
      "131\n",
      "335\n",
      "4\n",
      "4\n",
      "4\n",
      "4\n"
     ]
    }
   ],
   "source": [
    "land = create_landscape(50,50)\n",
    "for k,v, in land.items():\n",
    "    if k[0] > 49 or k[1] > 49: \n",
    "        print (k,v)"
   ]
  },
  {
   "cell_type": "markdown",
   "metadata": {
    "collapsed": false
   },
   "source": [
    "\n",
    "x2 = []\n",
    "y2 =[]\n",
    "y1 = []\n",
    "x1=[]\n",
    "for i,v in land.items():\n",
    "    \n",
    "        if v[1] == 'sugar': \n",
    "            x2.append(i[0])\n",
    "            y2.append(i[1])\n",
    "        elif v[1] == 'spice': \n",
    "            x1.append(i[0])\n",
    "            y1.append(i[1])\n",
    "        '''\n",
    "        elif v[0] == 2: \n",
    "            x2.append(i[0])\n",
    "            y2.append(i[1])\n",
    "        elif v[0] == 1: \n",
    "            x1.append(i[0])\n",
    "            y1.append(i[1])\n",
    "        '''"
   ]
  },
  {
   "cell_type": "code",
   "execution_count": 18,
   "metadata": {
    "collapsed": false
   },
   "outputs": [],
   "source": [
    "x4 = []\n",
    "y4 = []\n",
    "x3 = []\n",
    "y3 = []\n",
    "x2 = []\n",
    "y2 =[]\n",
    "y1 = []\n",
    "x1=[]\n",
    "for i,v in land.items():\n",
    "    #for i,v in circle.items():\n",
    "    if v[0] == 4: \n",
    "        x4.append(i[0])\n",
    "        y4.append(i[1])\n",
    "    elif v[0] == 3: \n",
    "        x3.append(i[0])\n",
    "        y3.append(i[1])\n",
    "    elif v[0] == 2: \n",
    "        x2.append(i[0])\n",
    "        y2.append(i[1])\n",
    "    elif v[0] == 1: \n",
    "        x1.append(i[0])\n",
    "        y1.append(i[1])\n",
    "    "
   ]
  },
  {
   "cell_type": "code",
   "execution_count": 19,
   "metadata": {
    "collapsed": false
   },
   "outputs": [
    {
     "data": {
      "text/plain": [
       "<matplotlib.collections.PathCollection at 0x299588c5828>"
      ]
     },
     "execution_count": 19,
     "metadata": {},
     "output_type": "execute_result"
    },
    {
     "data": {
      "image/png": "[encoded data removed]",
      "text/plain": [
       "<Figure size 360x360 with 1 Axes>"
      ]
     },
     "metadata": {},
     "output_type": "display_data"
    }
   ],
   "source": [
    "fig = plt.figure(figsize = (5,5))\n",
    "\n",
    "plt.scatter(x4,y4)\n",
    "plt.scatter(x3,y3)\n",
    "plt.scatter(x2,y2)\n",
    "plt.scatter(x1,y1)"
   ]
  },
  {
   "cell_type": "markdown",
   "metadata": {
    "collapsed": false
   },
   "source": [
    "##### len(x2)"
   ]
  },
  {
   "cell_type": "code",
   "execution_count": null,
   "metadata": {
    "collapsed": false
   },
   "outputs": [],
   "source": [
    "len(x1)"
   ]
  },
  {
   "cell_type": "markdown",
   "metadata": {
    "collapsed": true
   },
   "source": [
    "# Take Two"
   ]
  },
  {
   "cell_type": "code",
   "execution_count": null,
   "metadata": {
    "collapsed": false
   },
   "outputs": [],
   "source": [
    "import math\n",
    "150 // 50"
   ]
  }
 ],
 "metadata": {
  "kernelspec": {
   "display_name": "Python 3",
   "language": "python",
   "name": "python3"
  },
  "language_info": {
   "codemirror_mode": {
    "name": "ipython",
    "version": 3
   },
   "file_extension": ".py",
   "mimetype": "text/x-python",
   "name": "python",
   "nbconvert_exporter": "python",
   "pygments_lexer": "ipython3",
   "version": "3.6.6"
  }
 },
 "nbformat": 4,
 "nbformat_minor": 2
}
